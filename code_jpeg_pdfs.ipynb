{
  "nbformat": 4,
  "nbformat_minor": 0,
  "metadata": {
    "colab": {
      "provenance": []
    },
    "kernelspec": {
      "name": "python3",
      "display_name": "Python 3"
    },
    "language_info": {
      "name": "python"
    }
  },
  "cells": [
    {
      "cell_type": "markdown",
      "source": [
        "1. Transformar mapas \"jpeg\" em \"pdf\""
      ],
      "metadata": {
        "id": "II4A8CFePC8q"
      }
    },
    {
      "cell_type": "code",
      "source": [
        "!pip install Pillow\n",
        "from google.colab import drive\n",
        "drive.mount('/content/drive') #rodar 1 vez e autorizar conexão"
      ],
      "metadata": {
        "id": "WcC7yow1PBG3"
      },
      "execution_count": null,
      "outputs": []
    },
    {
      "cell_type": "code",
      "source": [
        "!ls \"/content/drive/My Drive/caminho/\" #conferir se a pasta de destino está correta"
      ],
      "metadata": {
        "id": "-dXeBSeXPESc"
      },
      "execution_count": null,
      "outputs": []
    },
    {
      "cell_type": "code",
      "source": [
        "#transformando arquivos jpeg em pdf\n",
        "from PIL import Image\n",
        "import os\n",
        "\n",
        "folder_path = \"/content/drive/My Drive/caminho/JPEG/\"\n",
        "\n",
        "jpeg_files = [os.path.join(folder_path, f) for f in os.listdir(folder_path) if f.endswith(\".jpeg\") or f.endswith(\".jpg\")]\n",
        "\n",
        "output_folder = \"/content/drive/My Drive/caminho/PDFs/\"\n",
        "\n",
        "os.makedirs(output_folder, exist_ok=True)\n",
        "\n",
        "for jpeg_file in jpeg_files:\n",
        "    image = Image.open(jpeg_file)\n",
        "    pdf_path = os.path.join(output_folder, os.path.splitext(os.path.basename(jpeg_file))[0] + '.pdf')\n",
        "    image.convert('RGB').save(pdf_path, 'PDF', resolution=100.0)\n",
        "\n",
        "print(\"Conversão concluída. PDFs salvos em:\", output_folder)"
      ],
      "metadata": {
        "id": "MBpI4v8nPOeR"
      },
      "execution_count": null,
      "outputs": []
    },
    {
      "cell_type": "markdown",
      "source": [
        "2. Juntar PDFs.\n",
        "\n",
        "Para isso, lembrar de mudar a pasta em cada código, antes de executar as células (executar apenas daqui pra baixo)"
      ],
      "metadata": {
        "id": "NBy9cWggPSTa"
      }
    },
    {
      "cell_type": "code",
      "source": [
        "#rodar apenas uma vez\n",
        "!pip install PyPDF2\n",
        "from google.colab import drive\n",
        "drive.mount('/content/drive')"
      ],
      "metadata": {
        "id": "FVJTFaZbPUff"
      },
      "execution_count": null,
      "outputs": []
    },
    {
      "cell_type": "code",
      "source": [
        "#rodar apenas uma vez\n",
        "import os\n",
        "from PyPDF2 import PdfMerger"
      ],
      "metadata": {
        "id": "dkRexdQYPWQr"
      },
      "execution_count": null,
      "outputs": []
    },
    {
      "cell_type": "code",
      "source": [
        "mapas_folder = '/content/drive/My Drive/PDF/' #lembrar de colocar o endreço da pasta de entrada\n",
        "dossies_folder = '/content/drive/My Drive/PDFSJUNTADOS/' #lembrar de colocar o endreço da pasta de saída"
      ],
      "metadata": {
        "id": "mrNoat-HPe1j"
      },
      "execution_count": null,
      "outputs": []
    },
    {
      "cell_type": "code",
      "source": [
        "#lista de arquivos pdf na pasta de entrada\n",
        "mapas_files = {f.lower(): f for f in os.listdir(mapas_folder) if f.endswith(\".pdf\")}\n",
        "dossies_files = {f.lower(): f for f in os.listdir(dossies_folder) if f.endswith(\".pdf\")}\n",
        "\n",
        "#junta os arquivos pdf correspondentes ou mover os arquivos de entrada\n",
        "for dossies_file_lower, dossies_file in dossies_files.items():\n",
        "    dossies_path = os.path.join(dossies_folder, dossies_file)\n",
        "    merger = PdfMerger()\n",
        "\n",
        "#garantindo que há correspondência entre as pastas\n",
        "    if dossies_file_lower in mapas_files:\n",
        "        mapas_file = mapas_files[dossies_file_lower]\n",
        "        mapas_path = os.path.join(mapas_folder, mapas_file)\n",
        "        merger.append(dossies_path)  #adiciona o pdf de entrada\n",
        "        merger.append(mapas_path)    #adiciona o pdf de saída\n",
        "    else:\n",
        "        merger.append(dossies_path)  #apenas adiciona pdfs com correspondência de nome entre as pastas\n",
        "\n",
        "    output_path = os.path.join(dossies_folder, dossies_file)\n",
        "    merger.write(output_path)\n",
        "    merger.close()\n",
        "\n",
        "print(\"Processamento concluído. PDFs salvos na pasta.\")"
      ],
      "metadata": {
        "id": "B847HOVmPkNp"
      },
      "execution_count": null,
      "outputs": []
    },
    {
      "cell_type": "markdown",
      "source": [
        "3. Limpar pdfs (rodar esse código desfaz todo o processo, use-o em caso de algum erro e depois rode os códigos do item #2 novamente)."
      ],
      "metadata": {
        "id": "4uSld6CxPpfb"
      }
    },
    {
      "cell_type": "code",
      "source": [
        "import os\n",
        "from PyPDF2 import PdfReader, PdfWriter\n",
        "\n",
        "#pasta a ser formatada\n",
        "pdf_folder = '/content/drive/My Drive/PDFSJUNTADOS/'\n",
        "\n",
        "#lista de arquivos PDF na pasta\n",
        "pdf_files = [f for f in os.listdir(pdf_folder) if f.endswith(\".pdf\")]\n",
        "\n",
        "#remover a última página de PDFs com exatamente X páginas\n",
        "for pdf_file in pdf_files:\n",
        "    pdf_path = os.path.join(pdf_folder, pdf_file)\n",
        "    reader = PdfReader(pdf_path)\n",
        "\n",
        "    if len(reader.pages) == 4:\n",
        "        writer = PdfWriter()\n",
        "        for i in range(1):\n",
        "            writer.add_page(reader.pages[i])\n",
        "\n",
        "        #salvar o PDF modificado\n",
        "        with open(pdf_path, \"wb\") as output_pdf:\n",
        "            writer.write(output_pdf)\n",
        "\n",
        "print(\"Processamento concluído. Última página removida dos PDFs com exatamente X páginas.\")"
      ],
      "metadata": {
        "id": "UcvTF8RAPrIh"
      },
      "execution_count": null,
      "outputs": []
    }
  ]
}